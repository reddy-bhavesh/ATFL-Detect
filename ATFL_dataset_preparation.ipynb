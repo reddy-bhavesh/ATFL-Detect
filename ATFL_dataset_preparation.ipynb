{
  "nbformat": 4,
  "nbformat_minor": 0,
  "metadata": {
    "colab": {
      "provenance": [],
      "authorship_tag": "ABX9TyPsjqWXrc09IObhxvj7APMy",
      "include_colab_link": true
    },
    "kernelspec": {
      "name": "python3",
      "display_name": "Python 3"
    },
    "language_info": {
      "name": "python"
    }
  },
  "cells": [
    {
      "cell_type": "markdown",
      "metadata": {
        "id": "view-in-github",
        "colab_type": "text"
      },
      "source": [
        "<a href=\"https://colab.research.google.com/github/reddy-bhavesh/ATFL-Detect/blob/main/ATFL_dataset_preparation.ipynb\" target=\"_parent\"><img src=\"https://colab.research.google.com/assets/colab-badge.svg\" alt=\"Open In Colab\"/></a>"
      ]
    },
    {
      "cell_type": "code",
      "execution_count": 1,
      "metadata": {
        "colab": {
          "base_uri": "https://localhost:8080/",
          "height": 441
        },
        "id": "c2TY7PQW58FL",
        "outputId": "95b21267-cbb2-40ab-a2f2-2e0087458b23"
      },
      "outputs": [
        {
          "output_type": "stream",
          "name": "stdout",
          "text": [
            "Mounted at /content/drive\n",
            "Datasets successfully saved\n"
          ]
        },
        {
          "output_type": "display_data",
          "data": {
            "text/plain": [
              "<Figure size 640x480 with 1 Axes>"
            ],
            "image/png": "[encoded data removed]"
          },
          "metadata": {}
        }
      ],
      "source": [
        "import os\n",
        "import numpy as np\n",
        "import pandas as pd\n",
        "import matplotlib.pyplot as plt\n",
        "import pickle\n",
        "import cv2\n",
        "from google.colab.patches import cv2_imshow\n",
        "%matplotlib inline\n",
        "\n",
        "from google.colab import drive\n",
        "drive.mount('/content/drive')\n",
        "\n",
        "# Ensure the dataset directory exists\n",
        "if not os.path.exists('content/drive/MyDrive/dataset1'):\n",
        "    os.mkdir('/content/drive/My Drive/ATFL_dataset')\n",
        "\n",
        "# Create directories for new dataset\n",
        "os.mkdir('/content/drive/My Drive/ATFL_new_dataset')\n",
        "os.mkdir('/content/drive/My Drive/ATFL_new_dataset/images')\n",
        "\n",
        "# Paths for training, validation, and test images\n",
        "train_paths = {\n",
        "    'normal': '/content/drive/MyDrive/dataset1/train/normal',\n",
        "    'abnormal': '/content/drive/MyDrive/dataset1/train/abnormal'\n",
        "}\n",
        "\n",
        "val_paths = {\n",
        "    'normal': '/content/drive/MyDrive/dataset1/validation/normal',\n",
        "    'abnormal': '/content/drive/MyDrive/dataset1/validation/abnormal'\n",
        "}\n",
        "\n",
        "test_paths = {\n",
        "    'normal': '/content/drive/MyDrive/dataset1/test/normal',\n",
        "    'abnormal': '/content/drive/MyDrive/dataset1/test/abnormal'\n",
        "}\n",
        "\n",
        "# Function to process and save images\n",
        "def process_and_save_images(paths, label, set_name):\n",
        "    labels = []\n",
        "    i = 1\n",
        "    for category, path in paths.items():\n",
        "        for filename in os.listdir(path):\n",
        "            if filename.endswith(\".png\"):\n",
        "                img = cv2.imread(os.path.join(path, filename), cv2.IMREAD_GRAYSCALE)\n",
        "                img = cv2.cvtColor(img, cv2.COLOR_GRAY2RGB)\n",
        "                img = cv2.resize(img, (512, 512))\n",
        "                labels.append(label[category])\n",
        "                plt.axis('off')\n",
        "                plt.imsave(f\"/content/drive/My Drive/ATFL_new_dataset/images/{set_name}_{i}.jpg\", img, cmap='gray')\n",
        "                i += 1\n",
        "    return labels\n",
        "\n",
        "# Labels for normal and abnormal\n",
        "label_dict = {'normal': 0, 'abnormal': 1}\n",
        "\n",
        "# Process and save training images\n",
        "train_labels = process_and_save_images(train_paths, label_dict, 'train')\n",
        "\n",
        "# Process and save validation images\n",
        "val_labels = process_and_save_images(val_paths, label_dict, 'val')\n",
        "\n",
        "# Process and save test images\n",
        "test_labels = process_and_save_images(test_paths, label_dict, 'test')\n",
        "\n",
        "# Save labels to pickle files\n",
        "with open(\"/content/drive/My Drive/ATFL_new_dataset/train_labels.pickle\", \"wb\") as f:\n",
        "    pickle.dump(train_labels, f)\n",
        "\n",
        "with open(\"/content/drive/My Drive/ATFL_new_dataset/val_labels.pickle\", \"wb\") as f:\n",
        "    pickle.dump(val_labels, f)\n",
        "\n",
        "with open(\"/content/drive/My Drive/ATFL_new_dataset/test_labels.pickle\", \"wb\") as f:\n",
        "    pickle.dump(test_labels, f)\n",
        "\n",
        "# Create training, validation, and test datasets\n",
        "def create_dataset(set_name, labels):\n",
        "    dataset = []\n",
        "    for i in range(1, len(labels) + 1):\n",
        "        img = cv2.imread(f\"/content/drive/My Drive/ATFL_new_dataset/images/{set_name}_{i}.png\", cv2.IMREAD_COLOR)\n",
        "        img = cv2.resize(img, (512, 512))\n",
        "        label = labels[i-1]\n",
        "        dataset.append([img, label])\n",
        "    return dataset\n",
        "\n",
        "# Load datasets\n",
        "train_data = create_dataset('train', train_labels)\n",
        "val_data = create_dataset('val', val_labels)\n",
        "test_data = create_dataset('test', test_labels)\n",
        "\n",
        "# Save datasets to pickle files\n",
        "with open(\"/content/drive/My Drive/ATFL_new_dataset/train_data.pickle\", \"wb\") as f:\n",
        "    pickle.dump(train_data, f)\n",
        "\n",
        "with open(\"/content/drive/My Drive/ATFL_new_dataset/val_data.pickle\", \"wb\") as f:\n",
        "    pickle.dump(val_data, f)\n",
        "\n",
        "with open(\"/content/drive/My Drive/ATFL_new_dataset/test_data.pickle\", \"wb\") as f:\n",
        "    pickle.dump(test_data, f)\n",
        "\n",
        "print(\"Datasets successfully saved\")\n"
      ]
    }
  ]
}